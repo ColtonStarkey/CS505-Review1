{
  "cells": [
    {
      "cell_type": "markdown",
      "metadata": {
        "id": "2mrd0YdPctEe"
      },
      "source": [
        "# Review Problems 1"
      ]
    },
    {
      "cell_type": "markdown",
      "metadata": {
        "id": "9vZql9-mclG1"
      },
      "source": [
        "**1)    Define the following metrics and perform the following operations**\n",
        "\n",
        "Matrix A =  [[ 3.7827  3.3454  3.2341]  , [ 2.2122  3.5678  3.9087] ,\n",
        "[1.1234  2.8934,  5.9087]].\n",
        "\n",
        "Matrix B =  [[ 3.1234  3.0987  3.1234]  , [ 2.1111  3.2222  3.3333] ,\n",
        "[1.0987  1.3456,  5.1234]].\n",
        "\n",
        "Matrix C =  [[ 3.1243  3.0989  3.1256 ]  , [ 2.6721  3.6785  3.9017] ,\n",
        "[1.1254  2.8956,  5.9187]]."
      ]
    },
    {
      "cell_type": "markdown",
      "metadata": {
        "id": "yjpELrVrdQ50"
      },
      "source": [
        "**i)    Write a Python program using Python Lists**"
      ]
    },
    {
      "cell_type": "code",
      "execution_count": 6,
      "metadata": {
        "colab": {
          "base_uri": "https://localhost:8080/"
        },
        "id": "mtbG4Kn6dySU",
        "outputId": "36182dfe-4201-44b2-b6ef-2c5abe398a8c"
      },
      "outputs": [
        {
          "name": "stdout",
          "output_type": "stream",
          "text": [
            "1. i\n",
            "0.000219000008655712\n"
          ]
        }
      ],
      "source": [
        "import numpy as np\n",
        "import timeit\n",
        "\n",
        "#1)\tDefine the following metrics and perform the following operations\n",
        "#    i)\tWrite a Python program using Python Lists\n",
        "def func1():\n",
        "    matrix_a = [[3.7827,3.3454,3.2341],[2.2122,3.5678,3.9087],[1.1234,2.8934,5.9087]]\n",
        "    matrix_b = [[3.1234,3.0987,3.1234],[2.1111,3.2222,3.3333],[1.0987,1.3456,5.1234]]\n",
        "    matrix_c = [[3.1243,3.0989,3.1256],[2.6721,3.6785,3.9017],[1.1254,2.8956,5.9187]]\n",
        "\n",
        "print(\"1. i\")\n",
        "print(timeit.timeit(func1, number=1000))"
      ]
    },
    {
      "cell_type": "markdown",
      "metadata": {
        "id": "Rxd0MvK_fqtC"
      },
      "source": [
        "**ii)   Write a Python program and NumPy**"
      ]
    },
    {
      "cell_type": "code",
      "execution_count": 7,
      "metadata": {
        "colab": {
          "base_uri": "https://localhost:8080/"
        },
        "id": "HCuaXf2_f1Q4",
        "outputId": "bf200c18-67bb-4c30-8713-dd0aefdc811e"
      },
      "outputs": [
        {
          "name": "stdout",
          "output_type": "stream",
          "text": [
            "1. ii\n",
            "0.007522300002165139\n"
          ]
        }
      ],
      "source": [
        "#    ii)\tWrite a Python program and NumPy\n",
        "def func2():\n",
        "    np_matrix_a = np.matrix([[3.7827,3.3454,3.2341],[2.2122,3.5678,3.9087],[1.1234,2.8934,5.9087]])\n",
        "    np_matrix_b = np.matrix([[3.1234,3.0987,3.1234],[2.1111,3.2222,3.3333],[1.0987,1.3456,5.1234]])\n",
        "    np_matrix_c = np.matrix([[3.1243,3.0989,3.1256],[2.6721,3.6785,3.9017],[1.1254,2.8956,5.9187]])\n",
        "print(\"1. ii\")\n",
        "print(timeit.timeit(func2, number=1000))"
      ]
    },
    {
      "cell_type": "markdown",
      "metadata": {
        "id": "uzV1rD5_i2J9"
      },
      "source": [
        "**2)    Write a Python Program and perform the following operations.**\n",
        "\n",
        "I.  Create a List {1225, 4986, 6789, 7890, 2345, 6783, 0987, 1234, 8765, 3456}\n",
        "\n",
        "\n",
        "II. Iterate using a for loop\n",
        "\n",
        "\n",
        "III.    Iterate using for loop and range\n",
        "\n",
        "\n",
        "IV. List Comprehension\n",
        "\n",
        "\n",
        "V.  Enumerate\n",
        "\n",
        "\n",
        "VI. Iter function and next function\n",
        "\n",
        "\n",
        "VII.    Map function\n",
        "\n",
        "\n",
        "VIII.   Using zip\n",
        "\n",
        "\n",
        "IX. Using NumPy Module"
      ]
    },
    {
      "cell_type": "code",
      "execution_count": 8,
      "metadata": {
        "colab": {
          "base_uri": "https://localhost:8080/"
        },
        "id": "IVPizlFaQ-Pl",
        "outputId": "f41b6327-8b2e-426f-9e0c-32005ee386a6"
      },
      "outputs": [
        {
          "name": "stdout",
          "output_type": "stream",
          "text": [
            "1. i\n",
            "0.0002214000269304961\n",
            "1. ii\n",
            "0.0076425999868661165\n",
            "2. I\n",
            "2.4399982066825032e-05\n",
            "2. II\n",
            "4.1799998143687844e-05\n",
            "2. III\n",
            "8.009999874047935e-05\n",
            "2. IV\n",
            "0.00018000000272877514\n",
            "2. V\n",
            "7.149999146349728e-05\n",
            "2. VI\n",
            "0.0001115999766625464\n",
            "2. VII\n",
            "0.00037239998346194625\n",
            "2. VIII\n",
            "0.00035680001019500196\n",
            "2. IX\n",
            "0.00043810001807287335\n"
          ]
        }
      ],
      "source": [
        "import numpy as np\n",
        "import timeit\n",
        "\n",
        "#1)\tDefine the following metrics and perform the following operations\n",
        "#    i)\tWrite a Python program using Python Lists\n",
        "def func1():\n",
        "    matrix_a = [[3.7827,3.3454,3.2341],[2.2122,3.5678,3.9087],[1.1234,2.8934,5.9087]]\n",
        "    matrix_b = [[3.1234,3.0987,3.1234],[2.1111,3.2222,3.3333],[1.0987,1.3456,5.1234]]\n",
        "    matrix_c = [[3.1243,3.0989,3.1256],[2.6721,3.6785,3.9017],[1.1254,2.8956,5.9187]]\n",
        "\n",
        "print(\"1. i\")\n",
        "print(timeit.timeit(func1, number=1000))\n",
        "\n",
        "#    ii)\tWrite a Python program and NumPy\n",
        "def func2():\n",
        "    np_matrix_a = np.matrix([[3.7827,3.3454,3.2341],[2.2122,3.5678,3.9087],[1.1234,2.8934,5.9087]])\n",
        "    np_matrix_b = np.matrix([[3.1234,3.0987,3.1234],[2.1111,3.2222,3.3333],[1.0987,1.3456,5.1234]])\n",
        "    np_matrix_c = np.matrix([[3.1243,3.0989,3.1256],[2.6721,3.6785,3.9017],[1.1254,2.8956,5.9187]])\n",
        "print(\"1. ii\")\n",
        "print(timeit.timeit(func2, number=1000))\n",
        "\n",
        "# 2)\tWrite a Python Program and perform the following operations ?\n",
        "\n",
        "# I.\tCreate a List {1225, 4986, 6789, 7890, 2345, 6783, 0987, 1234, 8765, 3456}\n",
        "print(\"2. I\")\n",
        "def funci():\n",
        "    list1 = (1225, 4986, 6789, 7890, 2345, 6783, 987, 1234, 8765, 3456)\n",
        "\n",
        "print(timeit.timeit(funci, number=1000))\n",
        "\n",
        "# II.\tIterate using a for loop\n",
        "print(\"2. II\")\n",
        "def funcii():\n",
        "    list1 = (1225, 4986, 6789, 7890, 2345, 6783, 987, 1234, 8765, 3456)\n",
        "\n",
        "    for i in list1:\n",
        "        return i\n",
        "\n",
        "print(timeit.timeit(funcii, number=1000))\n",
        "\n",
        "# III.\tIterate using for loop and range\n",
        "print(\"2. III\")\n",
        "def funciii():\n",
        "    list1 = (1225, 4986, 6789, 7890, 2345, 6783, 987, 1234, 8765, 3456)\n",
        "\n",
        "    for i in range(0,9):\n",
        "        return i\n",
        "\n",
        "print(timeit.timeit(funciii, number=1000))\n",
        "\n",
        "# IV.\tList Comprehension\n",
        "print(\"2. IV\")\n",
        "def funciv():\n",
        "    list1 = (1225, 4986, 6789, 7890, 2345, 6783, 987, 1234, 8765, 3456)\n",
        "    return [i for i in list1]\n",
        "\n",
        "print(timeit.timeit(funciv, number=1000))\n",
        "\n",
        "# V.\tEnumerate\n",
        "print(\"2. V\")\n",
        "def funcv():\n",
        "    list1 = (1225, 4986, 6789, 7890, 2345, 6783, 987, 1234, 8765, 3456)\n",
        "    enum1 = enumerate(list1)\n",
        "    for i in enum1:\n",
        "        return i\n",
        "\n",
        "print(timeit.timeit(funcv, number=1000))\n",
        "\n",
        "# VI.\tIter function and next function\n",
        "print(\"2. VI\")\n",
        "def funcvi():\n",
        "    list1 = (1225, 4986, 6789, 7890, 2345, 6783, 987, 1234, 8765, 3456)\n",
        "    iter1 = iter(list1)\n",
        "    for i in range(0,9):\n",
        "        return(next(iter1))\n",
        "\n",
        "print(timeit.timeit(funcvi, number=1000))\n",
        "\n",
        "# VII.\tMap function\n",
        "print(\"2. VII\")\n",
        "def funcvii():\n",
        "    list1 = (1225, 4986, 6789, 7890, 2345, 6783, 987, 1234, 8765, 3456)\n",
        "    def print_test(x):\n",
        "        return x\n",
        "\n",
        "    map_test = map(print_test, list1)\n",
        "    return(list(map_test))\n",
        "\n",
        "print(timeit.timeit(funcvii, number=1000))\n",
        "\n",
        "# VIII.\tUsing zip\n",
        "print(\"2. VIII\")\n",
        "def funcviii():\n",
        "    list1 = (1225, 4986, 6789, 7890, 2345, 6783, 987, 1234, 8765, 3456)\n",
        "    zipped = zip(list1,[0,1,2,3,4,5,6,7,8,9])\n",
        "\n",
        "    return(set(zipped))\n",
        "\n",
        "print(timeit.timeit(funcviii, number=1000))\n",
        "\n",
        "# IX.\tUsing NumPy Module\n",
        "print(\"2. IX\")\n",
        "def funcix():\n",
        "    arr = np.array([1225, 4986, 6789, 7890, 2345, 6783, 987, 1234, 8765, 3456])\n",
        "    return(arr)\n",
        "\n",
        "print(timeit.timeit(funcix, number=1000))"
      ]
    },
    {
      "cell_type": "markdown",
      "metadata": {
        "id": "gdRFPVZkkSJU"
      },
      "source": [
        "**3)    For a List A, B, C, D, E write a python program to compute all the combinations and permutations**"
      ]
    },
    {
      "cell_type": "code",
      "execution_count": 9,
      "metadata": {
        "colab": {
          "base_uri": "https://localhost:8080/"
        },
        "id": "i86o5No10iO5",
        "outputId": "f768a4b2-f9ed-48d0-acf0-745a1527f036"
      },
      "outputs": [
        {
          "name": "stdout",
          "output_type": "stream",
          "text": [
            "3. Permutations\n",
            "0.06944009999278933\n",
            "3. Combinations\n",
            "0.002932700008386746\n"
          ]
        }
      ],
      "source": [
        "test_list = [\"a\",\"b\", \"c\", \"d\", \"e\"]\n",
        "\n",
        "def allperms(my_list):\n",
        "    \n",
        "    if not (my_list):\n",
        "        return []\n",
        "    \n",
        "    if len(my_list) ==1:\n",
        "        return[my_list]\n",
        "    \n",
        "    total = []\n",
        "    for i in range(len(my_list)):\n",
        "        temp = my_list[i]\n",
        "        leftover = my_list[:i] + my_list[i+1:]\n",
        "\n",
        "        for each in allperms(leftover):\n",
        "            total.append([temp]+each)\n",
        "    return total\n",
        "print(\"3. Permutations\")\n",
        "print(timeit.timeit(lambda: allperms(test_list), number=1000))\n",
        "\n",
        "def allcomb(my_list):\n",
        "    total = [[]]\n",
        "    for i in my_list:\n",
        "        for j in total.copy():\n",
        "            comb = j + [i]\n",
        "            if comb != []:\n",
        "                total.append(comb)\n",
        "    total.pop(0)\n",
        "    return total\n",
        "print(\"3. Combinations\")\n",
        "print(timeit.timeit(lambda: allcomb(test_list), number=1000))"
      ]
    },
    {
      "cell_type": "markdown",
      "metadata": {
        "id": "B1v0UivZkknD"
      },
      "source": [
        "**4)    Using the same list use itertools compute permutations and combinations**"
      ]
    },
    {
      "cell_type": "code",
      "execution_count": 10,
      "metadata": {
        "colab": {
          "base_uri": "https://localhost:8080/"
        },
        "id": "BBQ5iGCsksuW",
        "outputId": "806cb49f-2807-45df-e845-b6264b1bf255"
      },
      "outputs": [
        {
          "name": "stdout",
          "output_type": "stream",
          "text": [
            "4. Permutations\n",
            "0.0033660999906715006\n",
            "4. Combinations\n",
            "0.0015153000131249428\n"
          ]
        }
      ],
      "source": [
        "import itertools\n",
        "\n",
        "def iter_perms(my_list):\n",
        "    perm = list(itertools.permutations(test_list))\n",
        "    return perm\n",
        "\n",
        "print(\"4. Permutations\")\n",
        "print(timeit.timeit(lambda: iter_perms(test_list), number=1000))\n",
        "\n",
        "def iter_comb(my_list, r):\n",
        "    total = []\n",
        "    for each in range(1,r+1):\n",
        "        combo = list(itertools.combinations(test_list, each))\n",
        "        total.append(combo)\n",
        "    return total\n",
        "\n",
        "print(\"4. Combinations\")\n",
        "print(timeit.timeit(lambda: iter_comb(test_list, 5), number=1000))"
      ]
    }
  ],
  "metadata": {
    "colab": {
      "provenance": []
    },
    "kernelspec": {
      "display_name": "Python 3",
      "name": "python3"
    },
    "language_info": {
      "codemirror_mode": {
        "name": "ipython",
        "version": 3
      },
      "file_extension": ".py",
      "mimetype": "text/x-python",
      "name": "python",
      "nbconvert_exporter": "python",
      "pygments_lexer": "ipython3",
      "version": "3.11.8"
    }
  },
  "nbformat": 4,
  "nbformat_minor": 0
}
